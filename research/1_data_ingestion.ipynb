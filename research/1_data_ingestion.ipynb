{
 "cells": [
  {
   "cell_type": "code",
   "execution_count": 1,
   "metadata": {},
   "outputs": [
    {
     "data": {
      "text/plain": [
       "'/Users/nehaagarwal/Desktop/projects/Text_Summarizer_Project/research'"
      ]
     },
     "execution_count": 1,
     "metadata": {},
     "output_type": "execute_result"
    }
   ],
   "source": [
    "import os\n",
    "os.getcwd()"
   ]
  },
  {
   "cell_type": "code",
   "execution_count": 2,
   "metadata": {},
   "outputs": [
    {
     "data": {
      "text/plain": [
       "'/Users/nehaagarwal/Desktop/projects/Text_Summarizer_Project'"
      ]
     },
     "execution_count": 2,
     "metadata": {},
     "output_type": "execute_result"
    }
   ],
   "source": [
    "os.chdir(\"../.\")\n",
    "os.getcwd()"
   ]
  },
  {
   "cell_type": "code",
   "execution_count": 3,
   "metadata": {},
   "outputs": [],
   "source": [
    "from dataclasses import dataclass\n",
    "from pathlib import Path\n",
    "\n",
    "@dataclass(frozen = True)\n",
    "class DataIngetionconfig:\n",
    "    root_dir : Path\n",
    "    source_url : str\n",
    "    local_data_file : Path\n",
    "    unzip_dir : Path"
   ]
  },
  {
   "cell_type": "code",
   "execution_count": 4,
   "metadata": {},
   "outputs": [],
   "source": [
    "from textsummarizer.constant import *\n",
    "from textsummarizer.utils.common import read_yaml,create_directories"
   ]
  },
  {
   "cell_type": "code",
   "execution_count": 15,
   "metadata": {},
   "outputs": [],
   "source": [
    "class ConfigurationManager:\n",
    "    def __init__(self,\n",
    "                 config_filepath=CONFIG_FILE_PATH,\n",
    "                 params_filepath=PARAM_FILE_PATH):\n",
    "        \n",
    "        self.config = read_yaml(config_filepath)\n",
    "        self.params = read_yaml(params_filepath)\n",
    "\n",
    "        create_directories([self.config.artifacts_root])\n",
    "\n",
    "    def get_data_ingestion_config(self) -> DataIngetionconfig:\n",
    "        config = self.config.data_ingestion\n",
    "\n",
    "        create_directories([config.root_dir])\n",
    "\n",
    "        data_ingestion_config =  DataIngetionconfig(\n",
    "                root_dir=config.root_dir,\n",
    "                source_url = config.source_url,\n",
    "                local_data_file = config.local_data_file,\n",
    "                unzip_dir =config.unzip_dir)\n",
    "        return data_ingestion_config\n"
   ]
  },
  {
   "cell_type": "code",
   "execution_count": 6,
   "metadata": {},
   "outputs": [],
   "source": [
    "import os\n",
    "import urllib.request as request\n",
    "import zipfile\n",
    "from textsummarizer.logging import logger\n",
    "from textsummarizer.utils.common import get_size"
   ]
  },
  {
   "cell_type": "code",
   "execution_count": 7,
   "metadata": {},
   "outputs": [],
   "source": [
    "class DataIngestion:\n",
    "    def __init__(self,config:DataIngetionconfig):\n",
    "        self.config = config\n",
    "\n",
    "\n",
    "    def download_file(self):\n",
    "        if not os.path.exists(self.config.local_data_file):\n",
    "            filename,headers = request.urlretrieve(url = self.config.source_url,filename = self.config.local_data_file)\n",
    "            logger.info(f\"{filename} downloaded! with following headers: {headers}\")\n",
    "        else:\n",
    "            logger.info(f\"file already exists of size {get_size(Path(self.config.local_data_file))}\")\n",
    "\n",
    "\n",
    "    \n",
    "    def unzip_file(self):\n",
    "        unzip_path = self.config.unzip_dir\n",
    "        if not os.path.exists(unzip_path):\n",
    "            with zipfile.ZipFile(self.config.local_data_file,'r') as zip_ref:\n",
    "                zip_ref.extractall(unzip_path)"
   ]
  },
  {
   "cell_type": "code",
   "execution_count": 16,
   "metadata": {},
   "outputs": [
    {
     "name": "stdout",
     "output_type": "stream",
     "text": [
      "[2024-01-20 21:39:18,974: INFO: common: yaml file:config/config.yaml loaded successfully]\n",
      "[2024-01-20 21:39:18,976: INFO: common: yaml file:params.yaml loaded successfully]\n",
      "[2024-01-20 21:39:18,977: INFO: common: directory:artifacts already exists]\n",
      "[2024-01-20 21:39:18,979: INFO: common: directory:artifacts/data_ingestion created successfully]\n",
      "[2024-01-20 21:39:18,981: ERROR: 1152642311: urlretrieve() got an unexpected keyword argument 'ur']\n"
     ]
    }
   ],
   "source": [
    "try:\n",
    "    config = ConfigurationManager()\n",
    "    data_ingestion_config = config.get_data_ingestion_config()\n",
    "    data_ingestion = DataIngestion(config = data_ingestion_config)\n",
    "    data_ingestion.download_file()\n",
    "    data_ingestion.unzip_file()\n",
    "except Exception as e:\n",
    "    logger.error(e)"
   ]
  },
  {
   "cell_type": "code",
   "execution_count": 12,
   "metadata": {},
   "outputs": [
    {
     "data": {
      "text/plain": [
       "['research',\n",
       " 'LICENSE',\n",
       " 'requirements.txt',\n",
       " 'Dockerfile',\n",
       " 'params.yaml',\n",
       " 'README.md',\n",
       " 'setup.py',\n",
       " 'logs',\n",
       " '.gitignore',\n",
       " '.venv',\n",
       " '.github',\n",
       " 'app.py',\n",
       " 'template.py',\n",
       " 'confg',\n",
       " '.git',\n",
       " 'main.py',\n",
       " 'src']"
      ]
     },
     "execution_count": 12,
     "metadata": {},
     "output_type": "execute_result"
    }
   ],
   "source": [
    "os.getcwd()\n",
    "os.listdir()"
   ]
  }
 ],
 "metadata": {
  "kernelspec": {
   "display_name": ".venv",
   "language": "python",
   "name": "python3"
  },
  "language_info": {
   "codemirror_mode": {
    "name": "ipython",
    "version": 3
   },
   "file_extension": ".py",
   "mimetype": "text/x-python",
   "name": "python",
   "nbconvert_exporter": "python",
   "pygments_lexer": "ipython3",
   "version": "3.10.4"
  }
 },
 "nbformat": 4,
 "nbformat_minor": 2
}
